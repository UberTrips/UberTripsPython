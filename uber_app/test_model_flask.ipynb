{
 "cells": [
  {
   "cell_type": "code",
   "execution_count": 6,
   "metadata": {
    "collapsed": false
   },
   "outputs": [
    {
     "name": "stderr",
     "output_type": "stream",
     "text": [
      "/Users/HudsonCavanagh/anaconda/lib/python2.7/site-packages/sklearn/utils/validation.py:386: DeprecationWarning: Passing 1d arrays as data is deprecated in 0.17 and willraise ValueError in 0.19. Reshape your data either using X.reshape(-1, 1) if your data has a single feature or X.reshape(1, -1) if it contains a single sample.\n",
      "  DeprecationWarning)\n"
     ]
    },
    {
     "data": {
      "text/plain": [
       "0.65234530864727491"
      ]
     },
     "execution_count": 6,
     "metadata": {},
     "output_type": "execute_result"
    }
   ],
   "source": [
    "import numpy as np\n",
    "import pandas as pd\n",
    "import sklearn\n",
    "\n",
    "#MODEL GOES HERE\n",
    "\n",
    "from sklearn.linear_model import LogisticRegression, LogisticRegressionCV\n",
    "\n",
    "trips = pd.read_csv('/Users/HudsonCavanagh/GA_dsi-projects/UberTripPython/uber_app/non_uber_trips.csv')\n",
    "trips = trips.iloc[:,1:]\n",
    "trips.columns = ['weekday', 'hour', 'taxi-cs_avg_trips', 'uber_avg_trips','lyft_avg_trips', 'total_trips', 'uber_prob', 'uber_taxi_bin']\n",
    "lr_basic = LogisticRegression(solver='liblinear', penalty='l2', C=0.75)\n",
    "\n",
    "X = trips.iloc[:,0:2]\n",
    "\n",
    "y = trips['uber_taxi_bin']\n",
    "PREDICTOR =lr_basic.fit(X, y)\n",
    "item_basic = [2, 2]\n",
    "score_mvp = PREDICTOR.predict_proba(item_basic)\n",
    "score_mvp[0][0]"
   ]
  },
  {
   "cell_type": "code",
   "execution_count": null,
   "metadata": {
    "collapsed": true
   },
   "outputs": [],
   "source": []
  }
 ],
 "metadata": {
  "kernelspec": {
   "display_name": "Python 2",
   "language": "python",
   "name": "python2"
  },
  "language_info": {
   "codemirror_mode": {
    "name": "ipython",
    "version": 2
   },
   "file_extension": ".py",
   "mimetype": "text/x-python",
   "name": "python",
   "nbconvert_exporter": "python",
   "pygments_lexer": "ipython2",
   "version": "2.7.12"
  }
 },
 "nbformat": 4,
 "nbformat_minor": 0
}
